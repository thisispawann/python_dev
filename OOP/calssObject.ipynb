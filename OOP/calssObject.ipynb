{
 "cells": [
  {
   "cell_type": "code",
   "execution_count": 1,
   "metadata": {},
   "outputs": [
    {
     "name": "stdout",
     "output_type": "stream",
     "text": [
      "<__main__.person object at 0x000002100C94B9B0>\n"
     ]
    }
   ],
   "source": [
    "'''\n",
    "object: collection of data and its functionality\n",
    "class: bluprints of object\n",
    "'''\n",
    "\n",
    "class person:\n",
    "    pass\n",
    "\n",
    "p = person() # creating object\n",
    "print(p)"
   ]
  },
  {
   "cell_type": "code",
   "execution_count": 2,
   "metadata": {},
   "outputs": [
    {
     "name": "stdout",
     "output_type": "stream",
     "text": [
      "Namaste\n"
     ]
    }
   ],
   "source": [
    "class person:\n",
    "    def display(self):\n",
    "        print(\"Namaste\")\n",
    "\n",
    "person1 = person()\n",
    "person1.display()"
   ]
  },
  {
   "cell_type": "code",
   "execution_count": null,
   "metadata": {},
   "outputs": [
    {
     "name": "stdout",
     "output_type": "stream",
     "text": [
      "Hello Pawan\n"
     ]
    }
   ],
   "source": [
    "class Person():\n",
    "    def __init__(self, name): # init function initialize the current object. self is used to differentiate instance and local variable\n",
    "        self.name = name # this self.name is instance variable and name is a local variable\n",
    "    def display(self): # printing the hello message\n",
    "        print(\"Hello\", self.name)\n",
    "\n",
    "person = Person(\"Pawan\")\n",
    "person.display()"
   ]
  },
  {
   "cell_type": "code",
   "execution_count": 4,
   "metadata": {},
   "outputs": [
    {
     "name": "stdout",
     "output_type": "stream",
     "text": [
      "Namaste\n"
     ]
    }
   ],
   "source": [
    "class person:\n",
    "    # to avoid self parameter\n",
    "    @staticmethod\n",
    "    def display():\n",
    "        print(\"Namaste\")\n",
    "\n",
    "p = person()\n",
    "p.display()"
   ]
  },
  {
   "cell_type": "code",
   "execution_count": null,
   "metadata": {},
   "outputs": [],
   "source": []
  }
 ],
 "metadata": {
  "kernelspec": {
   "display_name": "venv",
   "language": "python",
   "name": "python3"
  },
  "language_info": {
   "codemirror_mode": {
    "name": "ipython",
    "version": 3
   },
   "file_extension": ".py",
   "mimetype": "text/x-python",
   "name": "python",
   "nbconvert_exporter": "python",
   "pygments_lexer": "ipython3",
   "version": "3.12.3"
  }
 },
 "nbformat": 4,
 "nbformat_minor": 2
}
