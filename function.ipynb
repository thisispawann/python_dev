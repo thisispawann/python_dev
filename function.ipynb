{
 "cells": [
  {
   "cell_type": "code",
   "execution_count": 1,
   "metadata": {},
   "outputs": [
    {
     "name": "stdout",
     "output_type": "stream",
     "text": [
      "Tom's total expenses: 4000\n",
      "John's total expenses: 9550\n"
     ]
    }
   ],
   "source": [
    "def calculate_total(exp):\n",
    "    total = 0\n",
    "    for item in exp:\n",
    "        total = total + item\n",
    "    return total\n",
    "\n",
    "tom_exp_list = [1000, 3000]\n",
    "john_exp_list = [5000, 4550]\n",
    "\n",
    "toms_total = calculate_total(tom_exp_list)\n",
    "john_total = calculate_total(john_exp_list)\n",
    "\n",
    "print(\"Tom's total expenses:\", toms_total)\n",
    "print(\"John's total expenses:\", john_total)"
   ]
  },
  {
   "cell_type": "code",
   "execution_count": 2,
   "metadata": {},
   "outputs": [
    {
     "name": "stdout",
     "output_type": "stream",
     "text": [
      "53\n"
     ]
    }
   ],
   "source": [
    "def sum(a,b):\n",
    "    total = a + b\n",
    "    return total\n",
    "\n",
    "n = sum(10, 43)\n",
    "print(n)"
   ]
  },
  {
   "cell_type": "code",
   "execution_count": null,
   "metadata": {},
   "outputs": [
    {
     "name": "stdout",
     "output_type": "stream",
     "text": [
      "2\n",
      "4\n",
      "Total inside function: 6\n",
      "Total outside function: 0\n"
     ]
    }
   ],
   "source": [
    "# Global vs local variable\n",
    "\n",
    "total =0 # global variable\n",
    "\n",
    "def sum(a, b):\n",
    "    print(a)\n",
    "    print(b)\n",
    "\n",
    "    total = a + b # local variable\n",
    "\n",
    "    print(\"Total inside function:\", total)\n",
    "    return total\n",
    "\n",
    "n = sum(a=2, b=4)\n",
    "print(\"Total outside function:\", total)"
   ]
  },
  {
   "cell_type": "code",
   "execution_count": 1,
   "metadata": {},
   "outputs": [
    {
     "name": "stdout",
     "output_type": "stream",
     "text": [
      "41\n"
     ]
    }
   ],
   "source": [
    "# imporve any function in python\n",
    "\n",
    "def count_vowels(text: str) -> int:\n",
    "\n",
    "    if not isinstance(text, str):\n",
    "        raise TypeError(f'Please only use strings, {type(text)} is not a valid type.')\n",
    "    \n",
    "    vowel_count: int = 0\n",
    "    for char in text:\n",
    "        if char in 'aeiouAEIOU':\n",
    "            vowel_count +=1\n",
    "    \n",
    "    return vowel_count\n",
    "\n",
    "def main() -> None:\n",
    "    text: str = 'Microsoft is shutting down Skype, the internet-based phone and video service that was once the dominant way of staying connected in the mid 2000s.'\n",
    "    print(count_vowels(text))\n",
    "\n",
    "if __name__ == '__main__':\n",
    "    main()"
   ]
  }
 ],
 "metadata": {
  "kernelspec": {
   "display_name": "venv",
   "language": "python",
   "name": "python3"
  },
  "language_info": {
   "codemirror_mode": {
    "name": "ipython",
    "version": 3
   },
   "file_extension": ".py",
   "mimetype": "text/x-python",
   "name": "python",
   "nbconvert_exporter": "python",
   "pygments_lexer": "ipython3",
   "version": "3.12.3"
  }
 },
 "nbformat": 4,
 "nbformat_minor": 2
}
