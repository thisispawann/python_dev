{
 "cells": [
  {
   "cell_type": "code",
   "execution_count": 1,
   "metadata": {},
   "outputs": [
    {
     "name": "stdout",
     "output_type": "stream",
     "text": [
      "Tom's total expenses: 4000\n",
      "John's total expenses: 9550\n"
     ]
    }
   ],
   "source": [
    "def calculate_total(exp):\n",
    "    total = 0\n",
    "    for item in exp:\n",
    "        total = total + item\n",
    "    return total\n",
    "\n",
    "tom_exp_list = [1000, 3000]\n",
    "john_exp_list = [5000, 4550]\n",
    "\n",
    "toms_total = calculate_total(tom_exp_list)\n",
    "john_total = calculate_total(john_exp_list)\n",
    "\n",
    "print(\"Tom's total expenses:\", toms_total)\n",
    "print(\"John's total expenses:\", john_total)"
   ]
  },
  {
   "cell_type": "code",
   "execution_count": 2,
   "metadata": {},
   "outputs": [
    {
     "name": "stdout",
     "output_type": "stream",
     "text": [
      "53\n"
     ]
    }
   ],
   "source": [
    "def sum(a,b):\n",
    "    total = a + b\n",
    "    return total\n",
    "\n",
    "n = sum(10, 43)\n",
    "print(n)"
   ]
  },
  {
   "cell_type": "code",
   "execution_count": null,
   "metadata": {},
   "outputs": [
    {
     "name": "stdout",
     "output_type": "stream",
     "text": [
      "2\n",
      "4\n",
      "Total inside function: 6\n",
      "Total outside function: 0\n"
     ]
    }
   ],
   "source": [
    "# Global vs local variable\n",
    "\n",
    "total =0 # global variable\n",
    "\n",
    "def sum(a, b):\n",
    "    print(a)\n",
    "    print(b)\n",
    "\n",
    "    total = a + b # local variable\n",
    "\n",
    "    print(\"Total inside function:\", total)\n",
    "    return total\n",
    "\n",
    "n = sum(a=2, b=4)\n",
    "print(\"Total outside function:\", total)"
   ]
  }
 ],
 "metadata": {
  "kernelspec": {
   "display_name": "venv",
   "language": "python",
   "name": "python3"
  },
  "language_info": {
   "codemirror_mode": {
    "name": "ipython",
    "version": 3
   },
   "file_extension": ".py",
   "mimetype": "text/x-python",
   "name": "python",
   "nbconvert_exporter": "python",
   "pygments_lexer": "ipython3",
   "version": "3.12.3"
  }
 },
 "nbformat": 4,
 "nbformat_minor": 2
}
