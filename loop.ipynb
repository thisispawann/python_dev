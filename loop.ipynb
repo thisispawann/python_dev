{
 "cells": [
  {
   "cell_type": "code",
   "execution_count": 1,
   "metadata": {},
   "outputs": [
    {
     "name": "stdout",
     "output_type": "stream",
     "text": [
      "196721\n"
     ]
    }
   ],
   "source": [
    "# for loop\n",
    "\n",
    "salary = [12933,84930, 48323, 50535]\n",
    "total = 0\n",
    "\n",
    "for i in salary:\n",
    "    total = total + i\n",
    "print(total)"
   ]
  },
  {
   "cell_type": "code",
   "execution_count": 2,
   "metadata": {},
   "outputs": [
    {
     "name": "stdout",
     "output_type": "stream",
     "text": [
      "Fruit Number: 1 Name: Dragon-Fruit\n",
      "Fruit Number: 2 Name: Peach\n",
      "Fruit Number: 3 Name: Waterlemon\n",
      "Fruit Number: 4 Name: Strawberry\n",
      "Fruit Number: 5 Name: Mulberry\n"
     ]
    }
   ],
   "source": [
    "fruits = [\"Dragon-Fruit\", \"Peach\", \"Waterlemon\", \"Strawberry\", \"Mulberry\"]\n",
    "\n",
    "for i in range(len(fruits)):\n",
    "    print('Fruit Number:', (i+1), 'Name:', fruits[i])\n",
    "\n",
    "\n",
    "\n",
    "key_location = \"chair\"\n",
    "locations = [\"garage\", \"kitchen\", \"chair\"]"
   ]
  },
  {
   "cell_type": "code",
   "execution_count": 3,
   "metadata": {},
   "outputs": [
    {
     "name": "stdout",
     "output_type": "stream",
     "text": [
      "key is not found in garage\n",
      "key is not found in kitchen\n",
      "key is found in chair\n"
     ]
    }
   ],
   "source": [
    "for i in locations:\n",
    "    if i == key_location:\n",
    "        print(\"key is found in\", i)\n",
    "        break\n",
    "    else:\n",
    "        print(\"key is not found in\", i)"
   ]
  },
  {
   "cell_type": "code",
   "execution_count": 4,
   "metadata": {},
   "outputs": [
    {
     "name": "stdout",
     "output_type": "stream",
     "text": [
      "1\n",
      "3\n",
      "5\n"
     ]
    }
   ],
   "source": [
    "\n",
    "# print 1 to 5 except even numbers\n",
    "\n",
    "for i in range(1,6):\n",
    "    if i%2==0:\n",
    "        continue\n",
    "    print(i)\n"
   ]
  },
  {
   "cell_type": "code",
   "execution_count": 5,
   "metadata": {},
   "outputs": [
    {
     "name": "stdout",
     "output_type": "stream",
     "text": [
      "1\n",
      "2\n",
      "3\n",
      "4\n",
      "5\n"
     ]
    }
   ],
   "source": [
    "# while loop\n",
    "\n",
    "i = 1\n",
    "while i<=5:\n",
    "    print(i)\n",
    "    i = i + 1"
   ]
  }
 ],
 "metadata": {
  "kernelspec": {
   "display_name": "venv",
   "language": "python",
   "name": "python3"
  },
  "language_info": {
   "codemirror_mode": {
    "name": "ipython",
    "version": 3
   },
   "file_extension": ".py",
   "mimetype": "text/x-python",
   "name": "python",
   "nbconvert_exporter": "python",
   "pygments_lexer": "ipython3",
   "version": "3.12.3"
  }
 },
 "nbformat": 4,
 "nbformat_minor": 2
}
